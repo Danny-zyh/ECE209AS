{
 "cells": [
  {
   "cell_type": "code",
   "execution_count": 1,
   "id": "f1f937da-1b9c-43ab-8853-64ead66b63a0",
   "metadata": {},
   "outputs": [],
   "source": [
    "%load_ext autoreload\n",
    "%autoreload 2"
   ]
  },
  {
   "cell_type": "code",
   "execution_count": 2,
   "id": "0c1614b5-8d51-44a3-83ae-a3676ca6180c",
   "metadata": {},
   "outputs": [],
   "source": [
    "import os, sys\n",
    "code_path = os.path.abspath('../code')\n",
    "\n",
    "# Add the path to sys.path\n",
    "if code_path not in sys.path:\n",
    "    sys.path.append(code_path)"
   ]
  },
  {
   "cell_type": "code",
   "execution_count": 3,
   "id": "66113660-5033-409e-b346-bdc602ea194a",
   "metadata": {},
   "outputs": [],
   "source": [
    "from week7 import particle\n",
    "import numpy as np\n",
    "from matplotlib import pyplot as plt"
   ]
  },
  {
   "cell_type": "code",
   "execution_count": 4,
   "id": "a5d438aa-1ff2-4814-af94-e744c0e62ba8",
   "metadata": {},
   "outputs": [],
   "source": [
    "np.random.seed(43)\n",
    "control = np.rint(np.random.uniform(low=-1, high=1, size=20))"
   ]
  },
  {
   "cell_type": "code",
   "execution_count": 5,
   "id": "945e1489-9ea8-4d5b-9989-c79676f7c3ea",
   "metadata": {},
   "outputs": [],
   "source": [
    "my_particle = particle()"
   ]
  },
  {
   "cell_type": "code",
   "execution_count": 6,
   "id": "e4658512-439e-4d27-be57-bbb26e23b5d6",
   "metadata": {},
   "outputs": [],
   "source": [
    "r_traj = np.zeros((2, len(control)+1))\n",
    "for t, ft in enumerate(control):\n",
    "    r_traj[:, t+1] = my_particle.T(r_traj[:, t], ft)"
   ]
  },
  {
   "cell_type": "code",
   "execution_count": 7,
   "id": "4b2205ab-a3bd-4ccb-8a90-1cf5383ba2d4",
   "metadata": {},
   "outputs": [],
   "source": [
    "e_traj = np.zeros((2, 2*len(control)+1))\n",
    "e_sig = np.zeros((2, 2, 2*len(control)+1))\n",
    "K = my_particle.kf_gain()\n",
    "                                \n",
    "for t, ft in enumerate(control):\n",
    "    if t == 0:\n",
    "        e_traj[:, t] = np.zeros(2)\n",
    "        e_sig[:, :, t] = my_particle.R\n",
    "        obs = my_particle.O(my_particle.T(r_traj[:, t], ft))\n",
    "        e_traj[:, t+1], e_sig[:, :, t+1] = my_particle.dynamic_update(e_traj[:, t], e_sig[:, :, t], ft)\n",
    "    else:\n",
    "        obs = my_particle.O(r_traj[:, t])\n",
    "        e_traj[:, 2*t], e_sig[:, :, 2*t] = my_particle.measurement_update(e_traj[:, 2*t-1], e_sig[:, :, 2*t-1], K, obs)\n",
    "        e_traj[:, 2*t+1], e_sig[:, :, 2*t+1] = my_particle.dynamic_update(e_traj[:, 2*t], e_sig[:, :, 2*t], ft)"
   ]
  },
  {
   "cell_type": "code",
   "execution_count": 8,
   "id": "414fb34a-a274-4171-a825-cb007b454755",
   "metadata": {},
   "outputs": [
    {
     "data": {
      "text/plain": [
       "array([[  0.        ,   0.        ,   0.04613821,  -0.83232382,\n",
       "         -0.23085464,  -0.61071391,  -0.93597983,  -2.44601457,\n",
       "         -3.03761197,  -5.70412627,  -4.92667794,  -7.18254054,\n",
       "         -7.14600764,  -8.39110058,  -7.74773896,  -8.63355011,\n",
       "         -8.40332547,  -9.32603305,  -9.85189733, -12.12846416,\n",
       "        -11.87925049, -14.1217098 , -13.6818421 , -15.75521362,\n",
       "        -16.75433744, -18.4465473 , -18.42274911, -20.31982004,\n",
       "        -20.44437391, -23.56642898, -22.79098531, -24.60854311,\n",
       "        -25.0082922 , -27.88120219, -27.92551371, -30.7681979 ,\n",
       "        -31.09043825, -34.19141308, -34.58723307, -38.95772394,\n",
       "          0.        ],\n",
       "       [  0.        ,  -1.        ,  -0.87846203,  -0.87846203,\n",
       "         -0.37985927,  -1.37985927,  -1.51003474,  -2.51003474,\n",
       "         -2.6665143 ,  -2.6665143 ,  -2.25586259,  -1.25586259,\n",
       "         -1.24509294,  -1.24509294,  -0.88581115,  -0.88581115,\n",
       "         -0.92270758,  -1.92270758,  -2.27656683,  -2.27656683,\n",
       "         -2.24245931,  -2.24245931,  -2.07337152,  -1.07337152,\n",
       "         -1.69220985,  -1.69220985,  -1.89707093,  -2.89707093,\n",
       "         -3.12205507,  -2.12205507,  -1.81755779,  -2.81755779,\n",
       "         -2.87290999,  -2.87290999,  -2.84268419,  -2.84268419,\n",
       "         -3.10097483,  -4.10097483,  -4.37049088,  -3.37049088,\n",
       "          0.        ]])"
      ]
     },
     "execution_count": 8,
     "metadata": {},
     "output_type": "execute_result"
    }
   ],
   "source": [
    "e_traj"
   ]
  },
  {
   "cell_type": "code",
   "execution_count": 12,
   "id": "d4730379-1dae-450d-8d7b-e930a7e634e4",
   "metadata": {},
   "outputs": [
    {
     "data": {
      "text/plain": [
       "array([[  0.        ,   0.        ,  -0.8441279 ,  -1.07631198,\n",
       "         -2.63953561,  -5.19831924,  -7.05180122,  -7.88806631,\n",
       "         -8.75847785,  -9.50400895, -11.69475022, -13.92922062,\n",
       "        -16.28596306, -18.29004559, -20.50884903, -23.34147008,\n",
       "        -24.91221343, -27.67109828, -30.63739507, -34.01452275,\n",
       "        -38.48286323],\n",
       "       [  0.        ,  -0.8441279 ,  -0.23218408,  -1.56322363,\n",
       "         -2.55878362,  -1.85348198,  -0.83626509,  -0.87041154,\n",
       "         -0.7455311 ,  -2.19074127,  -2.2344704 ,  -2.35674244,\n",
       "         -2.00408253,  -2.21880344,  -2.83262104,  -1.57074335,\n",
       "         -2.75888485,  -2.96629679,  -3.37712768,  -4.46834048,\n",
       "         -3.8091078 ]])"
      ]
     },
     "execution_count": 12,
     "metadata": {},
     "output_type": "execute_result"
    }
   ],
   "source": [
    "r_traj"
   ]
  },
  {
   "cell_type": "code",
   "execution_count": 10,
   "id": "5f95e689-e571-4300-8906-445f2ee59a3d",
   "metadata": {},
   "outputs": [
    {
     "data": {
      "text/plain": [
       "array([[-0.00352167, -0.10723995],\n",
       "       [ 0.01715293,  0.07188883]])"
      ]
     },
     "execution_count": 10,
     "metadata": {},
     "output_type": "execute_result"
    }
   ],
   "source": [
    "e_sig[:, :, 2]"
   ]
  },
  {
   "cell_type": "code",
   "execution_count": 11,
   "id": "2699c988-ea29-4bc1-a208-9d622d267f14",
   "metadata": {},
   "outputs": [
    {
     "data": {
      "text/plain": [
       "array([-1.,  0., -1., -1., -0.,  1.,  0.,  0., -1.,  0., -0.,  1., -0.,\n",
       "       -1.,  1., -1., -0., -0., -1.,  1.])"
      ]
     },
     "execution_count": 11,
     "metadata": {},
     "output_type": "execute_result"
    }
   ],
   "source": [
    "control"
   ]
  },
  {
   "cell_type": "code",
   "execution_count": null,
   "id": "6bcad361-4080-4e0e-920e-c6c7011bb4f2",
   "metadata": {},
   "outputs": [],
   "source": []
  }
 ],
 "metadata": {
  "kernelspec": {
   "display_name": "Python 3 (ipykernel)",
   "language": "python",
   "name": "python3"
  },
  "language_info": {
   "codemirror_mode": {
    "name": "ipython",
    "version": 3
   },
   "file_extension": ".py",
   "mimetype": "text/x-python",
   "name": "python",
   "nbconvert_exporter": "python",
   "pygments_lexer": "ipython3",
   "version": "3.10.4"
  }
 },
 "nbformat": 4,
 "nbformat_minor": 5
}
